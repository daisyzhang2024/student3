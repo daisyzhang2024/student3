{
 "cells": [
  {
   "cell_type": "markdown",
   "metadata": {},
   "source": [
    "---\n",
    "layout: post\n",
    "title: Individual Review\n",
    "toc: true\n",
    "description: Individual Review showing my learnings for the trimester.\n",
    "author: Daisy Zhang \n",
    "courses: { compsci: {week: 7} }\n",
    "type: hacks\n",
    "comments: true\n",
    "---"
   ]
  },
  {
   "cell_type": "markdown",
   "metadata": {},
   "source": [
    "# Daisy Zhang's Individual Review\n",
    "## My key tangibles and learnings from this tri:\n",
    "- Cases and functions via the snake game\n",
    "- Cases and operators in the Calculator\n",
    "- Learning how to use frames and animate with classes in Sprites\n",
    "- Collision mechanisms in creating platforms\n",
    "- Adding conditions and search Query in creating my minigames\n",
    "\n",
    "## Snake Game\n",
    "I figured out how to add WASD keys by using cases, also learned logic in Javascript."
   ]
  },
  {
   "cell_type": "code",
   "execution_count": null,
   "metadata": {
    "vscode": {
     "languageId": "javascript"
    }
   },
   "outputs": [],
   "source": [
    "let changeDir = function(key){\n",
    "            // test key and switch direction\n",
    "            switch(key) {\n",
    "                case 37:    // left arrow\n",
    "                case 65:    // 'A' key\n",
    "                    if (snake_dir !== 1)    // not right\n",
    "                        snake_next_dir = 3; // then switch left\n",
    "                    break;\n",
    "                case 38:    // up arrow\n",
    "                case 87:    // 'W' key\n",
    "                    if (snake_dir !== 2)    // not down\n",
    "                        snake_next_dir = 0; // then switch up\n",
    "                    break;\n",
    "                case 39:    // right arrow\n",
    "                case 68:    // 'D' key\n",
    "                    if (snake_dir !== 3)    // not left\n",
    "                        snake_next_dir = 1; // then switch right\n",
    "                    break;\n",
    "                case 40:    // down arrow\n",
    "                case 83:    // 'S' key\n",
    "                    if (snake_dir !== 0)    // not up\n",
    "                        snake_next_dir = 2; // then switch down\n",
    "                    break;\n",
    "            }\n",
    "        }"
   ]
  },
  {
   "cell_type": "markdown",
   "metadata": {},
   "source": [
    "## Cases in Calculator\n",
    "I learned how to use math operators in the Calculator. The operations were separated by cases, and I added the square root and divide functions by adding cases to the calculator."
   ]
  },
  {
   "cell_type": "code",
   "execution_count": null,
   "metadata": {
    "vscode": {
     "languageId": "javascript"
    }
   },
   "outputs": [],
   "source": [
    "// Calculator\n",
    "function calculate (first, second) { // function to calculate the result of the equation\n",
    "    let result = 0;\n",
    "    switch (operator) {\n",
    "        case \"+\":\n",
    "            result = first + second;\n",
    "            break;\n",
    "        case \"-\":\n",
    "            result = first - second;\n",
    "            break;\n",
    "        case \"*\":\n",
    "            result = first * second;\n",
    "            break;\n",
    "        case \"√\":\n",
    "            result = Math.sqrt(first);\n",
    "            break;\n",
    "        case \"/\":\n",
    "            if (second === 0) {\n",
    "              // Handle division by zero\n",
    "              output.innerHTML = \"Error\";\n",
    "              firstNumber = null;\n",
    "              nextReady = true;\n",
    "              return;\n",
    "              }\n",
    "            result = first / second;\n",
    "            break;\n",
    "        default: \n",
    "            break;\n",
    "    }\n",
    "    return result;\n",
    "}"
   ]
  },
  {
   "cell_type": "markdown",
   "metadata": {},
   "source": [
    "## Sprites\n",
    "I learned how the canvas is positioned. The origin is in the top left corner. The lower you go, the greater the y coordinate and the more right indicates a greater x coordinate, which seems counterintuitive. Also, I learned that the frames are animated with the \"animate()\" function, which is key.\n",
    "\n",
    "I also learned about spritesheets and how to portion a spritesheet into different frames by dividing the size by the number of x frames and y frames. Additionally, the frames were kept track of via indicies where if there were 7 frames that meant the indicies ranged from 0-6. \n",
    "\n",
    "In using div containers, I could organize the different movements into different ids and change among them."
   ]
  },
  {
   "cell_type": "code",
   "execution_count": null,
   "metadata": {
    "vscode": {
     "languageId": "html"
    }
   },
   "outputs": [],
   "source": [
    "<div id=\"controls\"> <!--basic radio buttons which can be used to check whether each individual animaiton works -->\n",
    "            <input type=\"radio\" name=\"animation\" id=\"back\" checked>\n",
    "            <label for=\"back\">Back</label><br>\n",
    "            <input type=\"radio\" name=\"animation\" id=\"right\">\n",
    "            <label for=\"right\">Right</label><br>\n",
    "            <input type=\"radio\" name=\"animation\" id=\"front\">\n",
    "            <label for=\"front\">Front</label><br>\n",
    "            <input type=\"radio\" name=\"animation\" id=\"left\">\n",
    "            <label for=\"left\">Left</label><br>\n",
    "        </div>"
   ]
  },
  {
   "cell_type": "markdown",
   "metadata": {},
   "source": [
    "These ids could then be referenced when animating the different actions. The maxFrame function allowed me to set a different number of frames for each row, depending on the action."
   ]
  },
  {
   "cell_type": "code",
   "execution_count": null,
   "metadata": {
    "vscode": {
     "languageId": "javascript"
    }
   },
   "outputs": [],
   "source": [
    "// update frameY of wizard object, action from idle1, idle2, idle3, scare, back, skip, and walk radio control\n",
    "const controls = document.getElementById('controls');\n",
    "controls.addEventListener('click', function (event) {\n",
    "    if (event.target.tagName === 'INPUT') {\n",
    "        const selectedAnimation = event.target.id;\n",
    "        switch (selectedAnimation) {\n",
    "            case 'idle1':\n",
    "                wizard.frameY = 0;\n",
    "                wizard.maxFrame = 3;\n",
    "                break;\n",
    "            case 'idle2':\n",
    "                wizard.frameY = 1;\n",
    "                wizard.maxFrame = 3;\n",
    "                break;\n",
    "            case 'idle3':\n",
    "                wizard.frameY = 2;\n",
    "                wizard.maxFrame = 3;\n",
    "                break;\n",
    "            case 'scare':\n",
    "                wizard.frameY = 3;\n",
    "                wizard.maxFrame = 4;\n",
    "                break;\n",
    "            case 'back':\n",
    "                wizard.frameY = 4;\n",
    "                wizard.maxFrame = 4;\n",
    "                break;\n",
    "            case 'skip':\n",
    "                wizard.frameY = 5;\n",
    "                wizard.maxFrame = 12;\n",
    "                break;\n",
    "            case 'walk':\n",
    "                wizard.frameY = 6;\n",
    "                wizard.maxFrame = 7;\n",
    "                break;\n",
    "            default:\n",
    "                break;\n",
    "        }\n",
    "    }\n",
    "});"
   ]
  },
  {
   "cell_type": "markdown",
   "metadata": {},
   "source": [
    "I applied this knowledge the creating the goblin, wizard, and bunny sprites."
   ]
  },
  {
   "cell_type": "markdown",
   "metadata": {},
   "source": [
    "## Platforms"
   ]
  },
  {
   "cell_type": "markdown",
   "metadata": {},
   "source": [
    "I learned the collision mechanisms from the Mario game and applied them to my starburst game. Implementation of collision mechanism: "
   ]
  },
  {
   "cell_type": "code",
   "execution_count": null,
   "metadata": {
    "vscode": {
     "languageId": "javascript"
    }
   },
   "outputs": [],
   "source": [
    "// Check for collision between player and platform\n",
    "if (\n",
    "    player.position.y + player.height <= platform.position.y &&\n",
    "    player.position.y + player.height + player.velocity.y >= platform.position.y &&\n",
    "    player.position.x + player.width >= platform.position.x &&\n",
    "    player.position.x <= platform.position.x + platform.width\n",
    ") {\n",
    "    player.velocity.y = 0;\n",
    "}"
   ]
  },
  {
   "cell_type": "markdown",
   "metadata": {},
   "source": [
    "## Minigames"
   ]
  },
  {
   "cell_type": "markdown",
   "metadata": {},
   "source": [
    "I created two minigames with the help of Youtube tutorials: tic-tac-toe and rock-paper-scissors. In both of these games, I used boolean logic, loops, and constructors.\n",
    "\n",
    "For the Tic-tac-toe game, I used arrays to separate each of the cells (using div) and assign winning combinations to certain arrays of cells."
   ]
  },
  {
   "cell_type": "code",
   "execution_count": null,
   "metadata": {
    "vscode": {
     "languageId": "javascript"
    }
   },
   "outputs": [],
   "source": [
    "// Tic-tac-toe logic using arrays\n",
    "function checkScore() {\n",
    "    const allSquares = document.querySelectorAll(\".square\")\n",
    "    const winningCombos = [\n",
    "        [0, 1, 2], [3, 4, 5], [6, 7, 8], //horizontal combos\n",
    "        [0, 3, 6], [1, 4, 7], [2, 5, 8] //vertical combos\n",
    "        [0, 4, 8], [2, 4, 6]\n",
    "    ]\n",
    "    winningCombos.forEach(array => {\n",
    "        const circleWins = array.every(cell => \n",
    "            allSquares[cell].firstChild?.classList.contains('circle'))\n",
    "\n",
    "        if (circleWins) {\n",
    "            infoDisplay.textContent = \"Circle Wins!\"\n",
    "            allSquares.forEach(square => square.replaceWith(square.cloneNode(true)))\n",
    "            return\n",
    "        }\n",
    "    })\n",
    "    \n",
    "    winningCombos.forEach(array => {\n",
    "        const crossWins = array.every(cell => \n",
    "            allSquares[cell].firstChild?.classList.contains('cross'))\n",
    "        if (crossWins) {\n",
    "            infoDisplay.textContent = \"Cross Wins!\"\n",
    "            allSquares.forEach(square => square.replaceWith(square.cloneNode(true)))\n",
    "            return\n",
    "        }\n",
    "    })\n",
    "}"
   ]
  },
  {
   "cell_type": "markdown",
   "metadata": {},
   "source": [
    "In the rock-paper-scissors game, a cool thing I learned to do was use the Math.random function to generate a random number from 1-3. "
   ]
  },
  {
   "cell_type": "code",
   "execution_count": null,
   "metadata": {
    "vscode": {
     "languageId": "javascript"
    }
   },
   "outputs": [],
   "source": [
    "function computerTurn(){\n",
    "    const randNum = Math.floor(Math.random()*3) + 1; //get a random number between 1 and 3\n",
    "    switch(randNum) {\n",
    "        case 1: \n",
    "            computer = \"ROCK\";\n",
    "            break;\n",
    "        case 2:\n",
    "            computer = \"PAPER\";\n",
    "            break;\n",
    "        case 3:\n",
    "            computer = \"SCISSORS\";\n",
    "            break; \n",
    "    } \n",
    "} "
   ]
  },
  {
   "cell_type": "markdown",
   "metadata": {},
   "source": [
    "Also, I used logic with symbols to determine whether the computer or player won."
   ]
  },
  {
   "cell_type": "code",
   "execution_count": null,
   "metadata": {
    "vscode": {
     "languageId": "javascript"
    }
   },
   "outputs": [],
   "source": [
    "function checkWinner() {\n",
    "    if(player == computer) {\n",
    "        return \"Draw!\"; \n",
    "    }\n",
    "    else if(computer == \"ROCK\") { //if the computer is equal to rock, is the player equal to paper?, if so then return string (win), if false return different string (lose)\n",
    "        return (player == \"PAPER\") ? \"You Win!\" : \"You Lose!\"\n",
    "    }\n",
    "    else if(computer == \"PAPER\") { //if the computer is equal to paper, is the player equal to scissors?, if so then return string (win), if false return different string (lose)\n",
    "        return (player == \"SCISSORS\") ? \"You Win!\" : \"You Lose!\"\n",
    "    }\n",
    "    else if(computer == \"SCISSORS\") { //if the computer is equal to scissors, is the player equal to rock?, if so then return string (win), if false return different string (lose)\n",
    "        return (player == \"ROCK\") ? \"You Win!\" : \"You Lose!\"\n",
    "    }\n",
    "}"
   ]
  },
  {
   "cell_type": "markdown",
   "metadata": {},
   "source": [
    "## Night at the Museum\n",
    "At Night at the Museum, we presented our project with a Hook, Project description, and separate minigames. I reviewed three other projects from CSA, and was especially impressed by a group's facial recognition emotion project, which could sense your emotion (happy/sad) and give you an inspiration quote. These inspiration quotes were stored in an API, or a sort of big library that the website could pull from. I was also impressed by a group's personal everything app which had a to-do list, planner, and weather-checker.\n",
    "\n",
    "## Trimester Reflection\n",
    "This trimester, I learned how to utilize basic markdown and code to build a website using Github Pages. I learned how to create my own blog, and connected javascript, css, and HTML to create comprehensive sites and games. In the beginning, I was supported by the teacher's code to build a snake game, game of life, and a calculator. Additionally, I contributed to our team game by helping implement sprites and collision mechanisms. I also added minigames from YouTube tutorials which used logic, if statements, and arrays. This helped me get a better intuitive understanding of code. \n",
    "\n",
    "I am still trying to work on having a more positive mindset towards code. I find myself putting off code and using extra time outside of class to do other things. I was overwhelmed by the code of my peers and the teacher's code and was struggling to break it down bit by bit. However, with help from YouTube and ChatGPT I was able to understand the code a bit better. I am still trying to learn how to \"think in code\" and get a better grasp of the basics of code. My next steps are to work on small projects, with the help of YouTube and also inspired by my own interests of reading, writing, and math.\n",
    "\n",
    "In the future, I want to work on more projects to strengthen my coding skills. I hope to incorporate more math and logic into various games, and some of my ideas include a probability game where you can calculate the probability to roll a certain number on two dice. I think it would also be fun to try and make a randome meme generator that generates random memes from a library (partly inspired by night of the museum). Overall, I would like to work on more projects that incorporate my interests and relate to my interests so I can be motivated to do them."
   ]
  }
 ],
 "metadata": {
  "language_info": {
   "name": "python"
  },
  "orig_nbformat": 4
 },
 "nbformat": 4,
 "nbformat_minor": 2
}
